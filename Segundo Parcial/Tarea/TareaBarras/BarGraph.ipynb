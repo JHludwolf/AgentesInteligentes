{
 "cells": [
  {
   "cell_type": "code",
   "execution_count": 1,
   "id": "c6847bd3",
   "metadata": {},
   "outputs": [],
   "source": [
    "import cv2\n",
    "import matplotlib.pyplot as plt\n",
    "import numpy as np"
   ]
  },
  {
   "cell_type": "code",
   "execution_count": 2,
   "id": "80edf6b6",
   "metadata": {},
   "outputs": [
    {
     "data": {
      "image/png": "[encoded data removed]",
      "text/plain": [
       "<Figure size 432x288 with 1 Axes>"
      ]
     },
     "metadata": {
      "needs_background": "light"
     },
     "output_type": "display_data"
    }
   ],
   "source": [
    "graph = cv2.imread(\"grafica.png\", 0)\n",
    "graph2 = cv2.imread(\"grafica2.png\", 0)\n",
    "plt.figure()\n",
    "plt.imshow(graph, cmap='gray')\n",
    "\n",
    "plt.show()"
   ]
  },
  {
   "cell_type": "code",
   "execution_count": 3,
   "id": "4403592e",
   "metadata": {},
   "outputs": [
    {
     "data": {
      "image/png": "[encoded data removed]",
      "text/plain": [
       "<Figure size 432x288 with 1 Axes>"
      ]
     },
     "metadata": {
      "needs_background": "light"
     },
     "output_type": "display_data"
    }
   ],
   "source": [
    "binary_mask = graph > 250\n",
    "\n",
    "binary_mask=np.logical_not(binary_mask)\n",
    "plt.figure()\n",
    "plt.imshow(binary_mask, cmap='gray')\n",
    "\n",
    "plt.show()"
   ]
  },
  {
   "cell_type": "code",
   "execution_count": 4,
   "id": "a398a200",
   "metadata": {},
   "outputs": [
    {
     "name": "stdout",
     "output_type": "stream",
     "text": [
      "(187, 350)\n"
     ]
    }
   ],
   "source": [
    "print(binary_mask.shape)"
   ]
  },
  {
   "cell_type": "code",
   "execution_count": 5,
   "id": "39dbd353",
   "metadata": {},
   "outputs": [],
   "source": [
    "def mover(xc,v):\n",
    "    return xc+v\n",
    "def subir(yc,v):\n",
    "    return yc-v\n",
    "\n",
    "def comparar(ix,iy,structure,matrix):\n",
    "    sizey=structure.shape[0]\n",
    "    sizex=structure.shape[1]//2\n",
    "    \n",
    "    if iy-sizey >0 and ix-sizex>0 and iy<matrix.shape[0] and ix+sizex+1<matrix.shape[1]:\n",
    "        \n",
    "        submatrix=matrix[iy-sizey:iy,ix-sizex:ix+sizex+1]\n",
    "        \n",
    "        \n",
    "\n",
    "        for i in range(0,sizey):\n",
    "            for j in range(0,sizex):\n",
    "                if structure[i,j]!=submatrix[i,j]:\n",
    "                    return False\n",
    "\n",
    "        return True\n",
    "    else:\n",
    "        return False"
   ]
  },
  {
   "cell_type": "code",
   "execution_count": 6,
   "id": "0a8370e4",
   "metadata": {},
   "outputs": [
    {
     "name": "stdout",
     "output_type": "stream",
     "text": [
      "(187, 350)\n"
     ]
    },
    {
     "data": {
      "image/png": "[encoded data removed]",
      "text/plain": [
       "<Figure size 432x288 with 1 Axes>"
      ]
     },
     "metadata": {
      "needs_background": "light"
     },
     "output_type": "display_data"
    }
   ],
   "source": [
    "    \n",
    "binary_mask = graph > 250\n",
    "\n",
    "binary_mask=np.logical_not(binary_mask)\n",
    "print(binary_mask.shape)\n",
    "plt.figure()\n",
    "plt.imshow(binary_mask, cmap='gray')\n",
    "\n",
    "plt.show()  "
   ]
  },
  {
   "cell_type": "code",
   "execution_count": 5,
   "id": "3a579960",
   "metadata": {},
   "outputs": [
    {
     "name": "stdout",
     "output_type": "stream",
     "text": [
      "Valores de las barras:\n",
      "[9, 12, 8, 6, 1, 3]\n"
     ]
    }
   ],
   "source": [
    "structure=np.array([[True,True,True,True,True],[True,True,True,True,True],[True,True,True,True,True],[True,True,True,True,True],[True,True,True,True,True]])\n",
    "lista=[]\n",
    "valuex=0\n",
    "\n",
    "while valuex<binary_mask.shape[1]:\n",
    "    valuey=binary_mask.shape[0]-10\n",
    "    aux=0\n",
    "    while comparar(valuex,valuey,structure,binary_mask):\n",
    "        aux+=1\n",
    "        valuey=subir(valuey,graph.shape[0]//15)\n",
    "    if(aux>0):\n",
    "        #print(valuey)\n",
    "        lista.append(aux)\n",
    "    valuex=mover(valuex,graph.shape[1]//15)\n",
    "print(\"Valores de las barras:\")\n",
    "print(lista)\n"
   ]
  },
  {
   "cell_type": "code",
   "execution_count": 6,
   "id": "8bc57694",
   "metadata": {},
   "outputs": [
    {
     "name": "stdout",
     "output_type": "stream",
     "text": [
      "(187, 350)\n"
     ]
    },
    {
     "data": {
      "image/png": "[encoded data removed]",
      "text/plain": [
       "<Figure size 432x288 with 1 Axes>"
      ]
     },
     "metadata": {
      "needs_background": "light"
     },
     "output_type": "display_data"
    }
   ],
   "source": [
    "binary_mask2 = graph2 > 250\n",
    "\n",
    "binary_mask2=np.logical_not(binary_mask2)\n",
    "print(binary_mask.shape)\n",
    "plt.figure()\n",
    "plt.imshow(binary_mask2, cmap='gray')\n",
    "\n",
    "plt.show()"
   ]
  },
  {
   "cell_type": "code",
   "execution_count": 7,
   "id": "261ca144",
   "metadata": {},
   "outputs": [
    {
     "name": "stdout",
     "output_type": "stream",
     "text": [
      "Valores de las barras:\n",
      "[12, 4, 7, 12, 9]\n"
     ]
    }
   ],
   "source": [
    "lista2=[]\n",
    "valuex=25\n",
    "\n",
    "while valuex<binary_mask2.shape[1]:\n",
    "    valuey=binary_mask2.shape[0]-10\n",
    "    aux=0\n",
    "    while comparar(valuex,valuey,structure,binary_mask2):\n",
    "        aux+=1\n",
    "        valuey=subir(valuey,graph2.shape[0]//15)\n",
    "    if(aux>0):\n",
    "        #print(valuey)\n",
    "        lista2.append(aux)\n",
    "    valuex=mover(valuex,50)\n",
    "print(\"Valores de las barras:\")\n",
    "print(lista2)"
   ]
  },
  {
   "cell_type": "markdown",
   "id": "ec0172d8",
   "metadata": {},
   "source": [
    "# Rafael Andrade, José Luis Lobera y José Miguel de la Mora"
   ]
  },
  {
   "cell_type": "code",
   "execution_count": null,
   "id": "53fba01c",
   "metadata": {},
   "outputs": [],
   "source": []
  }
 ],
 "metadata": {
  "kernelspec": {
   "display_name": "Python 3 (ipykernel)",
   "language": "python",
   "name": "python3"
  },
  "language_info": {
   "codemirror_mode": {
    "name": "ipython",
    "version": 3
   },
   "file_extension": ".py",
   "mimetype": "text/x-python",
   "name": "python",
   "nbconvert_exporter": "python",
   "pygments_lexer": "ipython3",
   "version": "3.9.12"
  },
  "vscode": {
   "interpreter": {
    "hash": "9c80a7e3a2de4dde693dabf38008612d40fcac8e48a425c55413d53e2fda1a28"
   }
  }
 },
 "nbformat": 4,
 "nbformat_minor": 5
}
