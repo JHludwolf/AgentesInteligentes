{
 "cells": [
  {
   "cell_type": "code",
   "execution_count": 1,
   "id": "7ff2bb5b",
   "metadata": {},
   "outputs": [],
   "source": [
    "import cv2\n",
    "import matplotlib.pyplot as plt\n",
    "import numpy as np"
   ]
  },
  {
   "cell_type": "code",
   "execution_count": null,
   "id": "bb86e51b",
   "metadata": {},
   "outputs": [],
   "source": [
    "def Convolution(image,kernel):\n",
    "    sizey=image.shape[0]\n",
    "    sizey=image.shape[1]\n",
    "    conv=np.zeros_like(image)\n",
    "    #Sin orillas\n",
    "    for i in range(1,sizey-1):\n",
    "        for j in range(1,sizex-1):\n",
    "            \n",
    "            "
   ]
  }
 ],
 "metadata": {
  "kernelspec": {
   "display_name": "Python 3 (ipykernel)",
   "language": "python",
   "name": "python3"
  },
  "language_info": {
   "codemirror_mode": {
    "name": "ipython",
    "version": 3
   },
   "file_extension": ".py",
   "mimetype": "text/x-python",
   "name": "python",
   "nbconvert_exporter": "python",
   "pygments_lexer": "ipython3",
   "version": "3.9.12"
  }
 },
 "nbformat": 4,
 "nbformat_minor": 5
}
